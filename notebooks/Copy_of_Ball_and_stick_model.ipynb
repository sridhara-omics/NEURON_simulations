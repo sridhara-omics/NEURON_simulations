{
  "cells": [
    {
      "cell_type": "code",
      "execution_count": 1,
      "metadata": {
        "application/vnd.databricks.v1+cell": {
          "cellMetadata": {
            "byteLimit": 2048000,
            "rowLimit": 10000
          },
          "inputWidgets": {},
          "nuid": "08da5afd-f469-49ae-b12b-d12a246cdb69",
          "showTitle": false,
          "title": ""
        },
        "id": "eb9nzH4EadtS",
        "outputId": "b1780c9f-d914-4fa3-b884-15c54c4eb58a",
        "colab": {
          "base_uri": "https://localhost:8080/"
        }
      },
      "outputs": [
        {
          "output_type": "stream",
          "name": "stdout",
          "text": [
            "Collecting neuron\n",
            "  Downloading NEURON-8.2.4-cp310-cp310-manylinux_2_17_x86_64.manylinux2014_x86_64.whl (15.0 MB)\n",
            "\u001b[2K     \u001b[90m━━━━━━━━━━━━━━━━━━━━━━━━━━━━━━━━━━━━━━━━\u001b[0m \u001b[32m15.0/15.0 MB\u001b[0m \u001b[31m38.0 MB/s\u001b[0m eta \u001b[36m0:00:00\u001b[0m\n",
            "\u001b[?25hRequirement already satisfied: numpy>=1.9.3 in /usr/local/lib/python3.10/dist-packages (from neuron) (1.25.2)\n",
            "Requirement already satisfied: packaging in /usr/local/lib/python3.10/dist-packages (from neuron) (24.0)\n",
            "Collecting find-libpython (from neuron)\n",
            "  Downloading find_libpython-0.4.0-py3-none-any.whl (8.7 kB)\n",
            "Requirement already satisfied: setuptools in /usr/local/lib/python3.10/dist-packages (from neuron) (67.7.2)\n",
            "Installing collected packages: find-libpython, neuron\n",
            "Successfully installed find-libpython-0.4.0 neuron-8.2.4\n"
          ]
        },
        {
          "output_type": "execute_result",
          "data": {
            "text/plain": [
              "1.0"
            ]
          },
          "metadata": {},
          "execution_count": 1
        }
      ],
      "source": [
        "!pip install neuron\n",
        "from neuron import h, gui\n",
        "from neuron.units import ms, mV\n",
        "import plotly\n",
        "import matplotlib.pyplot as plt\n",
        "\n",
        "h.load_file(\"stdrun.hoc\")"
      ]
    },
    {
      "cell_type": "code",
      "execution_count": 2,
      "metadata": {
        "application/vnd.databricks.v1+cell": {
          "cellMetadata": {
            "byteLimit": 2048000,
            "rowLimit": 10000
          },
          "inputWidgets": {},
          "nuid": "697a471a-d693-4ba5-b679-25881b714903",
          "showTitle": false,
          "title": ""
        },
        "id": "aX_AcJDvadtU"
      },
      "outputs": [],
      "source": [
        "class Cell:\n",
        "    def __init__(self, gid, x, y, z, theta):\n",
        "        self._gid = gid\n",
        "        self._setup_morphology()\n",
        "        self.all = self.soma.wholetree()\n",
        "        self._setup_biophysics()\n",
        "        self.x = self.y = self.z = 0\n",
        "        h.define_shape()\n",
        "        self._rotate_z(theta)\n",
        "        self._set_position(x, y, z)\n",
        "\n",
        "        # everything below here in this method is NEW\n",
        "        self._spike_detector = h.NetCon(self.soma(0.5)._ref_v, None, sec=self.soma)\n",
        "        self.spike_times = h.Vector()\n",
        "        self._spike_detector.record(self.spike_times)\n",
        "\n",
        "        self._ncs = []\n",
        "\n",
        "        self.soma_v = h.Vector().record(self.soma(0.5)._ref_v)\n",
        "\n",
        "    def __repr__(self):\n",
        "        return \"{}[{}]\".format(self.name, self._gid)\n",
        "\n",
        "    def _set_position(self, x, y, z):\n",
        "        for sec in self.all:\n",
        "            for i in range(sec.n3d()):\n",
        "                sec.pt3dchange(\n",
        "                    i,\n",
        "                    x - self.x + sec.x3d(i),\n",
        "                    y - self.y + sec.y3d(i),\n",
        "                    z - self.z + sec.z3d(i),\n",
        "                    sec.diam3d(i),\n",
        "                )\n",
        "        self.x, self.y, self.z = x, y, z\n",
        "\n",
        "    def _rotate_z(self, theta):\n",
        "        \"\"\"Rotate the cell about the Z axis.\"\"\"\n",
        "        for sec in self.all:\n",
        "            for i in range(sec.n3d()):\n",
        "                x = sec.x3d(i)\n",
        "                y = sec.y3d(i)\n",
        "                c = h.cos(theta)\n",
        "                s = h.sin(theta)\n",
        "                xprime = x * c - y * s\n",
        "                yprime = x * s + y * c\n",
        "                sec.pt3dchange(i, xprime, yprime, sec.z3d(i), sec.diam3d(i))\n",
        "\n",
        "class BallAndStick(Cell):\n",
        "    name = \"BallAndStick\"\n",
        "\n",
        "    def _setup_morphology(self):\n",
        "        self.soma = h.Section(name=\"soma\", cell=self)\n",
        "        self.dend1 = h.Section(name=\"dend1\", cell=self)\n",
        "        self.dend2 = h.Section(name=\"dend2\", cell=self)\n",
        "        self.dend1.connect(self.soma)\n",
        "        self.dend2.connect(self.soma)\n",
        "        self.soma.L = self.soma.diam = 6.3078\n",
        "        self.dend1.L = 30\n",
        "        self.dend1.diam = 1\n",
        "        self.dend2.L = 30\n",
        "        self.dend2.diam = 1\n",
        "\n",
        "    def _setup_biophysics(self):\n",
        "        for sec in self.all:\n",
        "            sec.Ra = 100  # Axial resistance in Ohm * cm\n",
        "            sec.cm = 1  # Membrane capacitance in micro Farads / cm^2\n",
        "        self.soma.insert(\"hh\")\n",
        "        for seg in self.soma:\n",
        "            seg.hh.gnabar = 0.12  # Sodium conductance in S/cm2\n",
        "            seg.hh.gkbar = 0.036  # Potassium conductance in S/cm2\n",
        "            seg.hh.gl = 0.0003  # Leak conductance in S/cm2\n",
        "            seg.hh.el = -54.3  # Reversal potential in mV\n",
        "        # Insert passive current in the dendrite\n",
        "        self.dend1.insert(\"pas\")\n",
        "        for seg in self.dend1:\n",
        "            seg.pas.g = 0.001  # Passive conductance in S/cm2\n",
        "            seg.pas.e = -65  # Leak reversal potential mV\n",
        "\n",
        "        # NEW: the synapse\n",
        "        self.syn = h.ExpSyn(self.dend1(0.25))\n",
        "        self.syn.tau = 2 * ms"
      ]
    },
    {
      "cell_type": "code",
      "execution_count": 3,
      "metadata": {
        "application/vnd.databricks.v1+cell": {
          "cellMetadata": {
            "byteLimit": 2048000,
            "rowLimit": 10000
          },
          "inputWidgets": {},
          "nuid": "32bdba59-271c-4931-8509-a2c88eb630eb",
          "showTitle": false,
          "title": ""
        },
        "id": "xVQomHuAadtV"
      },
      "outputs": [],
      "source": [
        "class Ring:\n",
        "    \"\"\"A network of *N* ball-and-stick cells where cell n makes an\n",
        "    excitatory synapse onto cell n + 1 and the last, Nth cell in the\n",
        "    network projects to the first cell.\n",
        "    \"\"\"\n",
        "\n",
        "    def __init__(\n",
        "        self, N=12, stim_w=0.04, stim_t=9, stim_delay=1, syn_w=0.01, syn_delay=5, r=50\n",
        "    ):\n",
        "        \"\"\"\n",
        "        :param N: Number of cells.\n",
        "        :param stim_w: Weight of the stimulus\n",
        "        :param stim_t: time of the stimulus (in ms)\n",
        "        :param stim_delay: delay of the stimulus (in ms)\n",
        "        :param syn_w: Synaptic weight\n",
        "        :param syn_delay: Delay of the synapse\n",
        "        :param r: radius of the network\n",
        "        \"\"\"\n",
        "        self._syn_w = syn_w\n",
        "        self._syn_delay = syn_delay\n",
        "        self._create_cells(N, r)\n",
        "        self._connect_cells()\n",
        "        # add stimulus\n",
        "        self._netstim = h.NetStim()\n",
        "        self._netstim.number = 1\n",
        "        self._netstim.start = stim_t\n",
        "        self._nc = h.NetCon(self._netstim, self.cells[0].syn)\n",
        "        self._nc.delay = stim_delay\n",
        "        self._nc.weight[0] = stim_w\n",
        "\n",
        "    def _create_cells(self, N, r):\n",
        "        self.cells = []\n",
        "        for i in range(N):\n",
        "            theta = i * 2 * h.PI / N\n",
        "            self.cells.append(\n",
        "                BallAndStick(i, h.cos(theta) * r, h.sin(theta) * r, 0, theta)\n",
        "            )\n",
        "\n",
        "    def _connect_cells(self):\n",
        "        for source, target in zip(self.cells, self.cells[1:] + [self.cells[0]]):\n",
        "            nc = h.NetCon(source.soma(0.5)._ref_v, target.syn, sec=source.soma)\n",
        "            nc.weight[0] = self._syn_w\n",
        "            nc.delay = self._syn_delay\n",
        "            source._ncs.append(nc)"
      ]
    },
    {
      "cell_type": "code",
      "execution_count": 4,
      "metadata": {
        "application/vnd.databricks.v1+cell": {
          "cellMetadata": {
            "byteLimit": 2048000,
            "rowLimit": 10000
          },
          "inputWidgets": {},
          "nuid": "780348a2-0c36-4a59-958e-b0fb87ce9f6c",
          "showTitle": false,
          "title": ""
        },
        "id": "pGFuPSSPadtV"
      },
      "outputs": [],
      "source": [
        "ring = Ring(N=12)\n"
      ]
    },
    {
      "cell_type": "code",
      "execution_count": 5,
      "metadata": {
        "application/vnd.databricks.v1+cell": {
          "cellMetadata": {
            "byteLimit": 2048000,
            "rowLimit": 10000
          },
          "inputWidgets": {},
          "nuid": "dec16764-6394-4725-a551-403dd72a967f",
          "showTitle": false,
          "title": ""
        },
        "id": "kpHTySUMadtV",
        "outputId": "98bc73b8-3446-4cb5-cfb1-7b67ba952372",
        "colab": {
          "base_uri": "https://localhost:8080/",
          "height": 542
        }
      },
      "outputs": [
        {
          "output_type": "display_data",
          "data": {
            "text/html": [
              "<html>\n",
              "<head><meta charset=\"utf-8\" /></head>\n",
              "<body>\n",
              "    <div>            <script src=\"https://cdnjs.cloudflare.com/ajax/libs/mathjax/2.7.5/MathJax.js?config=TeX-AMS-MML_SVG\"></script><script type=\"text/javascript\">if (window.MathJax && window.MathJax.Hub && window.MathJax.Hub.Config) {window.MathJax.Hub.Config({SVG: {font: \"STIX-Web\"}});}</script>                <script type=\"text/javascript\">window.PlotlyConfig = {MathJaxConfig: 'local'};</script>\n",
              "        <script charset=\"utf-8\" src=\"https://cdn.plot.ly/plotly-2.24.1.min.js\"></script>                <div id=\"ba6793e9-25ae-4b5e-b4ab-bfb3dd98714f\" class=\"plotly-graph-div\" style=\"height:525px; width:100%;\"></div>            <script type=\"text/javascript\">                                    window.PLOTLYENV=window.PLOTLYENV || {};                                    if (document.getElementById(\"ba6793e9-25ae-4b5e-b4ab-bfb3dd98714f\")) {                    Plotly.newPlot(                        \"ba6793e9-25ae-4b5e-b4ab-bfb3dd98714f\",                        [{\"hovertemplate\":\"BallAndStick[0].soma(0.5)\\u003cbr\\u003e-65.000\",\"line\":{\"color\":\"#ff00ff\",\"width\":2},\"mode\":\"lines\",\"name\":\"\",\"x\":[50.0,53.153900146484375,56.30780029296875],\"y\":[0.0,0.0,0.0],\"z\":[0.0,0.0,0.0],\"type\":\"scatter3d\",\"uid\":\"df8c6bcb-df3a-4573-a816-79533fa36268\"},{\"hovertemplate\":\"BallAndStick[0].dend1(0.5)\\u003cbr\\u003e-65.000\",\"line\":{\"color\":\"#ff00ff\",\"width\":2},\"mode\":\"lines\",\"name\":\"\",\"x\":[56.30780029296875,70.12371826171875,83.93962860107422],\"y\":[0.0,5.841275215148926,11.682550430297852],\"z\":[0.0,0.0,0.0],\"type\":\"scatter3d\",\"uid\":\"906bb3ce-cd5d-48fc-ad97-558423d642cf\"},{\"hovertemplate\":\"BallAndStick[0].dend2(0.5)\\u003cbr\\u003e-65.000\",\"line\":{\"color\":\"#ff00ff\",\"width\":2},\"mode\":\"lines\",\"name\":\"\",\"x\":[56.30780029296875,70.12371826171875,83.93962860107422],\"y\":[0.0,-5.841275215148926,-11.682550430297852],\"z\":[0.0,0.0,0.0],\"type\":\"scatter3d\",\"uid\":\"97d3e4d5-ea2e-4c1d-b870-53403d22adb9\"},{\"hovertemplate\":\"BallAndStick[1].soma(0.5)\\u003cbr\\u003e-65.000\",\"line\":{\"color\":\"#ff00ff\",\"width\":2},\"mode\":\"lines\",\"name\":\"\",\"x\":[43.30126953125,46.03262710571289,48.76398468017578],\"y\":[25.0,26.576950073242188,28.153900146484375],\"z\":[100.0,100.0,100.0],\"type\":\"scatter3d\",\"uid\":\"bcc5328d-7e82-4331-b707-7b7e26bf69f4\"},{\"hovertemplate\":\"BallAndStick[1].dend1(0.5)\\u003cbr\\u003e-65.000\",\"line\":{\"color\":\"#ff00ff\",\"width\":2},\"mode\":\"lines\",\"name\":\"\",\"x\":[48.76398468017578,57.80828094482422,66.85257720947266],\"y\":[28.153900146484375,40.12055206298828,52.08720016479492],\"z\":[100.0,100.0,100.0],\"type\":\"scatter3d\",\"uid\":\"0f2d1d2f-94e5-46c3-a1e4-9ef42c456ba8\"},{\"hovertemplate\":\"BallAndStick[1].dend2(0.5)\\u003cbr\\u003e-65.000\",\"line\":{\"color\":\"#ff00ff\",\"width\":2},\"mode\":\"lines\",\"name\":\"\",\"x\":[48.76398468017578,63.64955520629883,78.53512573242188],\"y\":[28.153900146484375,30.003164291381836,31.852428436279297],\"z\":[100.0,100.0,100.0],\"type\":\"scatter3d\",\"uid\":\"d2ccb7b6-3ad7-4965-8a56-6d81fab0fb9d\"},{\"hovertemplate\":\"BallAndStick[2].soma(0.5)\\u003cbr\\u003e-65.000\",\"line\":{\"color\":\"#ff00ff\",\"width\":2},\"mode\":\"lines\",\"name\":\"\",\"x\":[25.0,26.576950073242188,28.153900146484375],\"y\":[43.30126953125,46.03262710571289,48.76398468017578],\"z\":[200.0,200.0,200.0],\"type\":\"scatter3d\",\"uid\":\"b82cbcbe-cc0d-4612-9b4b-583ec02d790b\"},{\"hovertemplate\":\"BallAndStick[2].dend1(0.5)\\u003cbr\\u003e-65.000\",\"line\":{\"color\":\"#ff00ff\",\"width\":2},\"mode\":\"lines\",\"name\":\"\",\"x\":[28.153900146484375,30.003164291381836,31.852428436279297],\"y\":[48.76398468017578,63.64955520629883,78.53512573242188],\"z\":[200.0,200.0,200.0],\"type\":\"scatter3d\",\"uid\":\"ab63d9b1-e8cd-42b0-af59-1a75be4df2e1\"},{\"hovertemplate\":\"BallAndStick[2].dend2(0.5)\\u003cbr\\u003e-65.000\",\"line\":{\"color\":\"#ff00ff\",\"width\":2},\"mode\":\"lines\",\"name\":\"\",\"x\":[28.153900146484375,40.12055206298828,52.08720016479492],\"y\":[48.76398468017578,57.80828094482422,66.85257720947266],\"z\":[200.0,200.0,200.0],\"type\":\"scatter3d\",\"uid\":\"2f77d000-8249-4eb9-a6fd-1072a6f2239d\"},{\"hovertemplate\":\"BallAndStick[3].soma(0.5)\\u003cbr\\u003e-65.000\",\"line\":{\"color\":\"#ff00ff\",\"width\":2},\"mode\":\"lines\",\"name\":\"\",\"x\":[3.0616168932349032e-15,3.254737652351805e-15,3.447858411468707e-15],\"y\":[50.0,53.153900146484375,56.30780029296875],\"z\":[300.0,300.0,300.0],\"type\":\"scatter3d\",\"uid\":\"14b5be70-db81-4cf8-a9b7-32a3fcef9f69\"},{\"hovertemplate\":\"BallAndStick[3].dend1(0.5)\\u003cbr\\u003e-65.000\",\"line\":{\"color\":\"#ff00ff\",\"width\":2},\"mode\":\"lines\",\"name\":\"\",\"x\":[3.447858411468707e-15,-5.841275215148926,-11.682550430297852],\"y\":[56.30780029296875,70.12371826171875,83.93962860107422],\"z\":[300.0,300.0,300.0],\"type\":\"scatter3d\",\"uid\":\"7070ee02-f2f6-43c4-8d1b-a731f3a4f024\"},{\"hovertemplate\":\"BallAndStick[3].dend2(0.5)\\u003cbr\\u003e-65.000\",\"line\":{\"color\":\"#ff00ff\",\"width\":2},\"mode\":\"lines\",\"name\":\"\",\"x\":[3.447858411468707e-15,5.841275215148926,11.682550430297852],\"y\":[56.30780029296875,70.12371826171875,83.93962860107422],\"z\":[300.0,300.0,300.0],\"type\":\"scatter3d\",\"uid\":\"51a0e615-1d31-4d38-b160-70877cffede6\"},{\"hovertemplate\":\"BallAndStick[4].soma(0.5)\\u003cbr\\u003e-65.000\",\"line\":{\"color\":\"#ff00ff\",\"width\":2},\"mode\":\"lines\",\"name\":\"\",\"x\":[-25.0,-26.576950073242188,-28.153900146484375],\"y\":[43.30126953125,46.03262710571289,48.76398468017578],\"z\":[400.0,400.0,400.0],\"type\":\"scatter3d\",\"uid\":\"57354058-9b5e-4260-addc-2712c1dfb316\"},{\"hovertemplate\":\"BallAndStick[4].dend1(0.5)\\u003cbr\\u003e-65.000\",\"line\":{\"color\":\"#ff00ff\",\"width\":2},\"mode\":\"lines\",\"name\":\"\",\"x\":[-28.153900146484375,-40.120548248291016,-52.08720016479492],\"y\":[48.76398468017578,57.80828094482422,66.85257720947266],\"z\":[400.0,400.0,400.0],\"type\":\"scatter3d\",\"uid\":\"c066c3ad-75c7-47ae-8d2e-121b633ee4df\"},{\"hovertemplate\":\"BallAndStick[4].dend2(0.5)\\u003cbr\\u003e-65.000\",\"line\":{\"color\":\"#ff00ff\",\"width\":2},\"mode\":\"lines\",\"name\":\"\",\"x\":[-28.153900146484375,-30.003164291381836,-31.852428436279297],\"y\":[48.76398468017578,63.64955520629883,78.53512573242188],\"z\":[400.0,400.0,400.0],\"type\":\"scatter3d\",\"uid\":\"1cc089d8-d1bf-45ec-abf2-eacc7741bb39\"},{\"hovertemplate\":\"BallAndStick[5].soma(0.5)\\u003cbr\\u003e-65.000\",\"line\":{\"color\":\"#ff00ff\",\"width\":2},\"mode\":\"lines\",\"name\":\"\",\"x\":[-43.30126953125,-46.03262710571289,-48.76398468017578],\"y\":[25.0,26.576950073242188,28.153900146484375],\"z\":[500.0,500.0,500.0],\"type\":\"scatter3d\",\"uid\":\"f9c21160-9dec-4aa4-a374-517d0ffc57f2\"},{\"hovertemplate\":\"BallAndStick[5].dend1(0.5)\\u003cbr\\u003e-65.000\",\"line\":{\"color\":\"#ff00ff\",\"width\":2},\"mode\":\"lines\",\"name\":\"\",\"x\":[-48.76398468017578,-63.64955520629883,-78.53512573242188],\"y\":[28.153900146484375,30.003164291381836,31.852428436279297],\"z\":[500.0,500.0,500.0],\"type\":\"scatter3d\",\"uid\":\"54e62495-fb8d-4e00-8d0e-7a09dd07e0bd\"},{\"hovertemplate\":\"BallAndStick[5].dend2(0.5)\\u003cbr\\u003e-65.000\",\"line\":{\"color\":\"#ff00ff\",\"width\":2},\"mode\":\"lines\",\"name\":\"\",\"x\":[-48.76398468017578,-57.80828094482422,-66.85257720947266],\"y\":[28.153900146484375,40.12055206298828,52.08720016479492],\"z\":[500.0,500.0,500.0],\"type\":\"scatter3d\",\"uid\":\"69977db3-9673-42c6-9159-a15470cfbef7\"},{\"hovertemplate\":\"BallAndStick[6].soma(0.5)\\u003cbr\\u003e-65.000\",\"line\":{\"color\":\"#ff00ff\",\"width\":2},\"mode\":\"lines\",\"name\":\"\",\"x\":[-50.0,-53.153900146484375,-56.30780029296875],\"y\":[6.1232337864698064e-15,6.50947530470361e-15,6.895716822937414e-15],\"z\":[600.0,600.0,600.0],\"type\":\"scatter3d\",\"uid\":\"410fe688-b38a-4ca8-aec4-c3450f212f38\"},{\"hovertemplate\":\"BallAndStick[6].dend1(0.5)\\u003cbr\\u003e-65.000\",\"line\":{\"color\":\"#ff00ff\",\"width\":2},\"mode\":\"lines\",\"name\":\"\",\"x\":[-56.30780029296875,-70.12371826171875,-83.93962860107422],\"y\":[6.895716822937414e-15,-5.841275215148926,-11.682550430297852],\"z\":[600.0,600.0,600.0],\"type\":\"scatter3d\",\"uid\":\"21e82928-c6eb-41d4-9a88-209d9d37535c\"},{\"hovertemplate\":\"BallAndStick[6].dend2(0.5)\\u003cbr\\u003e-65.000\",\"line\":{\"color\":\"#ff00ff\",\"width\":2},\"mode\":\"lines\",\"name\":\"\",\"x\":[-56.30780029296875,-70.12371826171875,-83.93962860107422],\"y\":[6.895716822937414e-15,5.841275215148926,11.682550430297852],\"z\":[600.0,600.0,600.0],\"type\":\"scatter3d\",\"uid\":\"1a987470-bac8-472c-bbc7-476f01271c10\"},{\"hovertemplate\":\"BallAndStick[7].soma(0.5)\\u003cbr\\u003e-65.000\",\"line\":{\"color\":\"#ff00ff\",\"width\":2},\"mode\":\"lines\",\"name\":\"\",\"x\":[-43.30126953125,-46.03262710571289,-48.76398468017578],\"y\":[-25.0,-26.576950073242188,-28.153900146484375],\"z\":[700.0,700.0,700.0],\"type\":\"scatter3d\",\"uid\":\"a935ae27-8f8d-42b7-9308-bec54cab8ca7\"},{\"hovertemplate\":\"BallAndStick[7].dend1(0.5)\\u003cbr\\u003e-65.000\",\"line\":{\"color\":\"#ff00ff\",\"width\":2},\"mode\":\"lines\",\"name\":\"\",\"x\":[-48.76398468017578,-57.80828094482422,-66.85257720947266],\"y\":[-28.153900146484375,-40.120548248291016,-52.08720016479492],\"z\":[700.0,700.0,700.0],\"type\":\"scatter3d\",\"uid\":\"e5c48f28-83d9-4f8c-83c1-1990ff6404ed\"},{\"hovertemplate\":\"BallAndStick[7].dend2(0.5)\\u003cbr\\u003e-65.000\",\"line\":{\"color\":\"#ff00ff\",\"width\":2},\"mode\":\"lines\",\"name\":\"\",\"x\":[-48.76398468017578,-63.64955520629883,-78.53512573242188],\"y\":[-28.153900146484375,-30.003164291381836,-31.852428436279297],\"z\":[700.0,700.0,700.0],\"type\":\"scatter3d\",\"uid\":\"a4396752-6d6a-4a87-bf89-a8b0e257b4a7\"},{\"hovertemplate\":\"BallAndStick[8].soma(0.5)\\u003cbr\\u003e-65.000\",\"line\":{\"color\":\"#ff00ff\",\"width\":2},\"mode\":\"lines\",\"name\":\"\",\"x\":[-25.0,-26.576950073242188,-28.153900146484375],\"y\":[-43.30126953125,-46.03262710571289,-48.76398468017578],\"z\":[800.0,800.0,800.0],\"type\":\"scatter3d\",\"uid\":\"ddd63194-a163-4d73-ab12-c098eefaf042\"},{\"hovertemplate\":\"BallAndStick[8].dend1(0.5)\\u003cbr\\u003e-65.000\",\"line\":{\"color\":\"#ff00ff\",\"width\":2},\"mode\":\"lines\",\"name\":\"\",\"x\":[-28.153900146484375,-30.003164291381836,-31.852428436279297],\"y\":[-48.76398468017578,-63.64955520629883,-78.53512573242188],\"z\":[800.0,800.0,800.0],\"type\":\"scatter3d\",\"uid\":\"7a6c19b6-6dbd-4465-964d-0ab9520129b9\"},{\"hovertemplate\":\"BallAndStick[8].dend2(0.5)\\u003cbr\\u003e-65.000\",\"line\":{\"color\":\"#ff00ff\",\"width\":2},\"mode\":\"lines\",\"name\":\"\",\"x\":[-28.153900146484375,-40.12055206298828,-52.08720016479492],\"y\":[-48.76398468017578,-57.80828094482422,-66.85257720947266],\"z\":[800.0,800.0,800.0],\"type\":\"scatter3d\",\"uid\":\"4000c446-3234-4f6e-9eca-b7e6b4e7f8c6\"},{\"hovertemplate\":\"BallAndStick[9].soma(0.5)\\u003cbr\\u003e-65.000\",\"line\":{\"color\":\"#ff00ff\",\"width\":2},\"mode\":\"lines\",\"name\":\"\",\"x\":[-9.184850891462946e-15,-9.764212957055415e-15,-1.0343575022647884e-14],\"y\":[-50.0,-53.153900146484375,-56.30780029296875],\"z\":[900.0,900.0,900.0],\"type\":\"scatter3d\",\"uid\":\"18f041e3-2ea3-4a46-a074-bd877ad399e5\"},{\"hovertemplate\":\"BallAndStick[9].dend1(0.5)\\u003cbr\\u003e-65.000\",\"line\":{\"color\":\"#ff00ff\",\"width\":2},\"mode\":\"lines\",\"name\":\"\",\"x\":[-1.0343575022647884e-14,5.841275215148926,11.682550430297852],\"y\":[-56.30780029296875,-70.12371826171875,-83.93962860107422],\"z\":[900.0,900.0,900.0],\"type\":\"scatter3d\",\"uid\":\"cf49262b-e010-4b67-b8ca-f1421d63bc08\"},{\"hovertemplate\":\"BallAndStick[9].dend2(0.5)\\u003cbr\\u003e-65.000\",\"line\":{\"color\":\"#ff00ff\",\"width\":2},\"mode\":\"lines\",\"name\":\"\",\"x\":[-1.0343575022647884e-14,-5.841275215148926,-11.682550430297852],\"y\":[-56.30780029296875,-70.12371826171875,-83.93962860107422],\"z\":[900.0,900.0,900.0],\"type\":\"scatter3d\",\"uid\":\"5b5bd59b-f7c8-4dfe-a882-770c1ab1ce20\"},{\"hovertemplate\":\"BallAndStick[10].soma(0.5)\\u003cbr\\u003e-65.000\",\"line\":{\"color\":\"#ff00ff\",\"width\":2},\"mode\":\"lines\",\"name\":\"\",\"x\":[25.0,26.576950073242188,28.153900146484375],\"y\":[-43.30126953125,-46.03262710571289,-48.76398468017578],\"z\":[1000.0,1000.0,1000.0],\"type\":\"scatter3d\",\"uid\":\"43e35ced-37b6-42b7-a311-1501fcf1aefa\"},{\"hovertemplate\":\"BallAndStick[10].dend1(0.5)\\u003cbr\\u003e-65.000\",\"line\":{\"color\":\"#ff00ff\",\"width\":2},\"mode\":\"lines\",\"name\":\"\",\"x\":[28.153900146484375,40.12055206298828,52.08720016479492],\"y\":[-48.76398468017578,-57.80828094482422,-66.85257720947266],\"z\":[1000.0,1000.0,1000.0],\"type\":\"scatter3d\",\"uid\":\"8630f0e3-f60d-484f-8b8b-6cd70ee41c8c\"},{\"hovertemplate\":\"BallAndStick[10].dend2(0.5)\\u003cbr\\u003e-65.000\",\"line\":{\"color\":\"#ff00ff\",\"width\":2},\"mode\":\"lines\",\"name\":\"\",\"x\":[28.153900146484375,30.003164291381836,31.852428436279297],\"y\":[-48.76398468017578,-63.64955520629883,-78.53512573242188],\"z\":[1000.0,1000.0,1000.0],\"type\":\"scatter3d\",\"uid\":\"9f063346-8c64-4f94-b7b0-3d7b7913002f\"},{\"hovertemplate\":\"BallAndStick[11].soma(0.5)\\u003cbr\\u003e-65.000\",\"line\":{\"color\":\"#ff00ff\",\"width\":2},\"mode\":\"lines\",\"name\":\"\",\"x\":[43.30126953125,46.03262710571289,48.76398468017578],\"y\":[-25.0,-26.576950073242188,-28.153900146484375],\"z\":[1100.0,1100.0,1100.0],\"type\":\"scatter3d\",\"uid\":\"4ab936d0-09ae-4c5a-b3a7-0572ca66c1d1\"},{\"hovertemplate\":\"BallAndStick[11].dend1(0.5)\\u003cbr\\u003e-65.000\",\"line\":{\"color\":\"#ff00ff\",\"width\":2},\"mode\":\"lines\",\"name\":\"\",\"x\":[48.76398468017578,63.64955520629883,78.53512573242188],\"y\":[-28.153900146484375,-30.003164291381836,-31.852428436279297],\"z\":[1100.0,1100.0,1100.0],\"type\":\"scatter3d\",\"uid\":\"a823ceb7-c350-4043-a34a-36d4fdce4169\"},{\"hovertemplate\":\"BallAndStick[11].dend2(0.5)\\u003cbr\\u003e-65.000\",\"line\":{\"color\":\"#ff00ff\",\"width\":2},\"mode\":\"lines\",\"name\":\"\",\"x\":[48.76398468017578,57.80828094482422,66.85257720947266],\"y\":[-28.153900146484375,-40.12055206298828,-52.08720016479492],\"z\":[1100.0,1100.0,1100.0],\"type\":\"scatter3d\",\"uid\":\"535ff323-6412-43a8-9996-8f5ad0c21f18\"}],                        {\"showlegend\":false,\"template\":{\"data\":{\"barpolar\":[{\"marker\":{\"line\":{\"color\":\"#E5ECF6\",\"width\":0.5},\"pattern\":{\"fillmode\":\"overlay\",\"size\":10,\"solidity\":0.2}},\"type\":\"barpolar\"}],\"bar\":[{\"error_x\":{\"color\":\"#2a3f5f\"},\"error_y\":{\"color\":\"#2a3f5f\"},\"marker\":{\"line\":{\"color\":\"#E5ECF6\",\"width\":0.5},\"pattern\":{\"fillmode\":\"overlay\",\"size\":10,\"solidity\":0.2}},\"type\":\"bar\"}],\"carpet\":[{\"aaxis\":{\"endlinecolor\":\"#2a3f5f\",\"gridcolor\":\"white\",\"linecolor\":\"white\",\"minorgridcolor\":\"white\",\"startlinecolor\":\"#2a3f5f\"},\"baxis\":{\"endlinecolor\":\"#2a3f5f\",\"gridcolor\":\"white\",\"linecolor\":\"white\",\"minorgridcolor\":\"white\",\"startlinecolor\":\"#2a3f5f\"},\"type\":\"carpet\"}],\"choropleth\":[{\"colorbar\":{\"outlinewidth\":0,\"ticks\":\"\"},\"type\":\"choropleth\"}],\"contourcarpet\":[{\"colorbar\":{\"outlinewidth\":0,\"ticks\":\"\"},\"type\":\"contourcarpet\"}],\"contour\":[{\"colorbar\":{\"outlinewidth\":0,\"ticks\":\"\"},\"colorscale\":[[0.0,\"#0d0887\"],[0.1111111111111111,\"#46039f\"],[0.2222222222222222,\"#7201a8\"],[0.3333333333333333,\"#9c179e\"],[0.4444444444444444,\"#bd3786\"],[0.5555555555555556,\"#d8576b\"],[0.6666666666666666,\"#ed7953\"],[0.7777777777777778,\"#fb9f3a\"],[0.8888888888888888,\"#fdca26\"],[1.0,\"#f0f921\"]],\"type\":\"contour\"}],\"heatmapgl\":[{\"colorbar\":{\"outlinewidth\":0,\"ticks\":\"\"},\"colorscale\":[[0.0,\"#0d0887\"],[0.1111111111111111,\"#46039f\"],[0.2222222222222222,\"#7201a8\"],[0.3333333333333333,\"#9c179e\"],[0.4444444444444444,\"#bd3786\"],[0.5555555555555556,\"#d8576b\"],[0.6666666666666666,\"#ed7953\"],[0.7777777777777778,\"#fb9f3a\"],[0.8888888888888888,\"#fdca26\"],[1.0,\"#f0f921\"]],\"type\":\"heatmapgl\"}],\"heatmap\":[{\"colorbar\":{\"outlinewidth\":0,\"ticks\":\"\"},\"colorscale\":[[0.0,\"#0d0887\"],[0.1111111111111111,\"#46039f\"],[0.2222222222222222,\"#7201a8\"],[0.3333333333333333,\"#9c179e\"],[0.4444444444444444,\"#bd3786\"],[0.5555555555555556,\"#d8576b\"],[0.6666666666666666,\"#ed7953\"],[0.7777777777777778,\"#fb9f3a\"],[0.8888888888888888,\"#fdca26\"],[1.0,\"#f0f921\"]],\"type\":\"heatmap\"}],\"histogram2dcontour\":[{\"colorbar\":{\"outlinewidth\":0,\"ticks\":\"\"},\"colorscale\":[[0.0,\"#0d0887\"],[0.1111111111111111,\"#46039f\"],[0.2222222222222222,\"#7201a8\"],[0.3333333333333333,\"#9c179e\"],[0.4444444444444444,\"#bd3786\"],[0.5555555555555556,\"#d8576b\"],[0.6666666666666666,\"#ed7953\"],[0.7777777777777778,\"#fb9f3a\"],[0.8888888888888888,\"#fdca26\"],[1.0,\"#f0f921\"]],\"type\":\"histogram2dcontour\"}],\"histogram2d\":[{\"colorbar\":{\"outlinewidth\":0,\"ticks\":\"\"},\"colorscale\":[[0.0,\"#0d0887\"],[0.1111111111111111,\"#46039f\"],[0.2222222222222222,\"#7201a8\"],[0.3333333333333333,\"#9c179e\"],[0.4444444444444444,\"#bd3786\"],[0.5555555555555556,\"#d8576b\"],[0.6666666666666666,\"#ed7953\"],[0.7777777777777778,\"#fb9f3a\"],[0.8888888888888888,\"#fdca26\"],[1.0,\"#f0f921\"]],\"type\":\"histogram2d\"}],\"histogram\":[{\"marker\":{\"pattern\":{\"fillmode\":\"overlay\",\"size\":10,\"solidity\":0.2}},\"type\":\"histogram\"}],\"mesh3d\":[{\"colorbar\":{\"outlinewidth\":0,\"ticks\":\"\"},\"type\":\"mesh3d\"}],\"parcoords\":[{\"line\":{\"colorbar\":{\"outlinewidth\":0,\"ticks\":\"\"}},\"type\":\"parcoords\"}],\"pie\":[{\"automargin\":true,\"type\":\"pie\"}],\"scatter3d\":[{\"line\":{\"colorbar\":{\"outlinewidth\":0,\"ticks\":\"\"}},\"marker\":{\"colorbar\":{\"outlinewidth\":0,\"ticks\":\"\"}},\"type\":\"scatter3d\"}],\"scattercarpet\":[{\"marker\":{\"colorbar\":{\"outlinewidth\":0,\"ticks\":\"\"}},\"type\":\"scattercarpet\"}],\"scattergeo\":[{\"marker\":{\"colorbar\":{\"outlinewidth\":0,\"ticks\":\"\"}},\"type\":\"scattergeo\"}],\"scattergl\":[{\"marker\":{\"colorbar\":{\"outlinewidth\":0,\"ticks\":\"\"}},\"type\":\"scattergl\"}],\"scattermapbox\":[{\"marker\":{\"colorbar\":{\"outlinewidth\":0,\"ticks\":\"\"}},\"type\":\"scattermapbox\"}],\"scatterpolargl\":[{\"marker\":{\"colorbar\":{\"outlinewidth\":0,\"ticks\":\"\"}},\"type\":\"scatterpolargl\"}],\"scatterpolar\":[{\"marker\":{\"colorbar\":{\"outlinewidth\":0,\"ticks\":\"\"}},\"type\":\"scatterpolar\"}],\"scatter\":[{\"fillpattern\":{\"fillmode\":\"overlay\",\"size\":10,\"solidity\":0.2},\"type\":\"scatter\"}],\"scatterternary\":[{\"marker\":{\"colorbar\":{\"outlinewidth\":0,\"ticks\":\"\"}},\"type\":\"scatterternary\"}],\"surface\":[{\"colorbar\":{\"outlinewidth\":0,\"ticks\":\"\"},\"colorscale\":[[0.0,\"#0d0887\"],[0.1111111111111111,\"#46039f\"],[0.2222222222222222,\"#7201a8\"],[0.3333333333333333,\"#9c179e\"],[0.4444444444444444,\"#bd3786\"],[0.5555555555555556,\"#d8576b\"],[0.6666666666666666,\"#ed7953\"],[0.7777777777777778,\"#fb9f3a\"],[0.8888888888888888,\"#fdca26\"],[1.0,\"#f0f921\"]],\"type\":\"surface\"}],\"table\":[{\"cells\":{\"fill\":{\"color\":\"#EBF0F8\"},\"line\":{\"color\":\"white\"}},\"header\":{\"fill\":{\"color\":\"#C8D4E3\"},\"line\":{\"color\":\"white\"}},\"type\":\"table\"}]},\"layout\":{\"annotationdefaults\":{\"arrowcolor\":\"#2a3f5f\",\"arrowhead\":0,\"arrowwidth\":1},\"autotypenumbers\":\"strict\",\"coloraxis\":{\"colorbar\":{\"outlinewidth\":0,\"ticks\":\"\"}},\"colorscale\":{\"diverging\":[[0,\"#8e0152\"],[0.1,\"#c51b7d\"],[0.2,\"#de77ae\"],[0.3,\"#f1b6da\"],[0.4,\"#fde0ef\"],[0.5,\"#f7f7f7\"],[0.6,\"#e6f5d0\"],[0.7,\"#b8e186\"],[0.8,\"#7fbc41\"],[0.9,\"#4d9221\"],[1,\"#276419\"]],\"sequential\":[[0.0,\"#0d0887\"],[0.1111111111111111,\"#46039f\"],[0.2222222222222222,\"#7201a8\"],[0.3333333333333333,\"#9c179e\"],[0.4444444444444444,\"#bd3786\"],[0.5555555555555556,\"#d8576b\"],[0.6666666666666666,\"#ed7953\"],[0.7777777777777778,\"#fb9f3a\"],[0.8888888888888888,\"#fdca26\"],[1.0,\"#f0f921\"]],\"sequentialminus\":[[0.0,\"#0d0887\"],[0.1111111111111111,\"#46039f\"],[0.2222222222222222,\"#7201a8\"],[0.3333333333333333,\"#9c179e\"],[0.4444444444444444,\"#bd3786\"],[0.5555555555555556,\"#d8576b\"],[0.6666666666666666,\"#ed7953\"],[0.7777777777777778,\"#fb9f3a\"],[0.8888888888888888,\"#fdca26\"],[1.0,\"#f0f921\"]]},\"colorway\":[\"#636efa\",\"#EF553B\",\"#00cc96\",\"#ab63fa\",\"#FFA15A\",\"#19d3f3\",\"#FF6692\",\"#B6E880\",\"#FF97FF\",\"#FECB52\"],\"font\":{\"color\":\"#2a3f5f\"},\"geo\":{\"bgcolor\":\"white\",\"lakecolor\":\"white\",\"landcolor\":\"#E5ECF6\",\"showlakes\":true,\"showland\":true,\"subunitcolor\":\"white\"},\"hoverlabel\":{\"align\":\"left\"},\"hovermode\":\"closest\",\"mapbox\":{\"style\":\"light\"},\"paper_bgcolor\":\"white\",\"plot_bgcolor\":\"#E5ECF6\",\"polar\":{\"angularaxis\":{\"gridcolor\":\"white\",\"linecolor\":\"white\",\"ticks\":\"\"},\"bgcolor\":\"#E5ECF6\",\"radialaxis\":{\"gridcolor\":\"white\",\"linecolor\":\"white\",\"ticks\":\"\"}},\"scene\":{\"xaxis\":{\"backgroundcolor\":\"#E5ECF6\",\"gridcolor\":\"white\",\"gridwidth\":2,\"linecolor\":\"white\",\"showbackground\":true,\"ticks\":\"\",\"zerolinecolor\":\"white\"},\"yaxis\":{\"backgroundcolor\":\"#E5ECF6\",\"gridcolor\":\"white\",\"gridwidth\":2,\"linecolor\":\"white\",\"showbackground\":true,\"ticks\":\"\",\"zerolinecolor\":\"white\"},\"zaxis\":{\"backgroundcolor\":\"#E5ECF6\",\"gridcolor\":\"white\",\"gridwidth\":2,\"linecolor\":\"white\",\"showbackground\":true,\"ticks\":\"\",\"zerolinecolor\":\"white\"}},\"shapedefaults\":{\"line\":{\"color\":\"#2a3f5f\"}},\"ternary\":{\"aaxis\":{\"gridcolor\":\"white\",\"linecolor\":\"white\",\"ticks\":\"\"},\"baxis\":{\"gridcolor\":\"white\",\"linecolor\":\"white\",\"ticks\":\"\"},\"bgcolor\":\"#E5ECF6\",\"caxis\":{\"gridcolor\":\"white\",\"linecolor\":\"white\",\"ticks\":\"\"}},\"title\":{\"x\":0.05},\"xaxis\":{\"automargin\":true,\"gridcolor\":\"white\",\"linecolor\":\"white\",\"ticks\":\"\",\"title\":{\"standoff\":15},\"zerolinecolor\":\"white\",\"zerolinewidth\":2},\"yaxis\":{\"automargin\":true,\"gridcolor\":\"white\",\"linecolor\":\"white\",\"ticks\":\"\",\"title\":{\"standoff\":15},\"zerolinecolor\":\"white\",\"zerolinewidth\":2}}}},                        {\"responsive\": true}                    ).then(function(){\n",
              "                            \n",
              "var gd = document.getElementById('ba6793e9-25ae-4b5e-b4ab-bfb3dd98714f');\n",
              "var x = new MutationObserver(function (mutations, observer) {{\n",
              "        var display = window.getComputedStyle(gd).display;\n",
              "        if (!display || display === 'none') {{\n",
              "            console.log([gd, 'removed!']);\n",
              "            Plotly.purge(gd);\n",
              "            observer.disconnect();\n",
              "        }}\n",
              "}});\n",
              "\n",
              "// Listen for the removal of the full notebook cells\n",
              "var notebookContainer = gd.closest('#notebook-container');\n",
              "if (notebookContainer) {{\n",
              "    x.observe(notebookContainer, {childList: true});\n",
              "}}\n",
              "\n",
              "// Listen for the clearing of the current output cell\n",
              "var outputEl = gd.closest('.output');\n",
              "if (outputEl) {{\n",
              "    x.observe(outputEl, {childList: true});\n",
              "}}\n",
              "\n",
              "                        })                };                            </script>        </div>\n",
              "</body>\n",
              "</html>"
            ]
          },
          "metadata": {}
        }
      ],
      "source": [
        "\n",
        "shape_window = h.PlotShape(True)\n",
        "shape_window.plot(plotly).show()"
      ]
    },
    {
      "cell_type": "code",
      "execution_count": 6,
      "metadata": {
        "application/vnd.databricks.v1+cell": {
          "cellMetadata": {
            "byteLimit": 2048000,
            "rowLimit": 10000
          },
          "inputWidgets": {},
          "nuid": "d9edfc15-2d3f-491a-b99d-f451cab3598d",
          "showTitle": false,
          "title": ""
        },
        "id": "48Lz_WS_adtW",
        "outputId": "5fc0e9a5-7b2d-4326-d4eb-49f2b812790b",
        "colab": {
          "base_uri": "https://localhost:8080/"
        }
      },
      "outputs": [
        {
          "output_type": "execute_result",
          "data": {
            "text/plain": [
              "0.0"
            ]
          },
          "metadata": {},
          "execution_count": 6
        }
      ],
      "source": [
        "t = h.Vector().record(h._ref_t)\n",
        "h.finitialize(-65 * mV)\n",
        "h.continuerun(300)"
      ]
    },
    {
      "cell_type": "code",
      "execution_count": 7,
      "metadata": {
        "application/vnd.databricks.v1+cell": {
          "cellMetadata": {
            "byteLimit": 2048000,
            "rowLimit": 10000
          },
          "inputWidgets": {},
          "nuid": "abc3a8b9-ee8e-440f-9c16-6297b9316376",
          "showTitle": false,
          "title": ""
        },
        "id": "Y3dTaCUladtW"
      },
      "outputs": [],
      "source": [
        "%matplotlib inline\n"
      ]
    },
    {
      "cell_type": "code",
      "execution_count": 8,
      "metadata": {
        "application/vnd.databricks.v1+cell": {
          "cellMetadata": {
            "byteLimit": 2048000,
            "rowLimit": 10000
          },
          "inputWidgets": {},
          "nuid": "87b4406a-82f4-4e04-92fd-f1d895c47bb7",
          "showTitle": false,
          "title": ""
        },
        "id": "LhF9rkUxadtW",
        "outputId": "1da8ac1a-bd7a-4f57-a717-a2605bde59d0",
        "colab": {
          "base_uri": "https://localhost:8080/",
          "height": 430
        }
      },
      "outputs": [
        {
          "output_type": "display_data",
          "data": {
            "text/plain": [
              "<Figure size 640x480 with 1 Axes>"
            ],
            "image/png": "[encoded data removed]"
          },
          "metadata": {}
        }
      ],
      "source": [
        "\n",
        "plt.plot(t, ring.cells[0].soma_v)\n",
        "plt.show()"
      ]
    },
    {
      "cell_type": "code",
      "execution_count": null,
      "metadata": {
        "application/vnd.databricks.v1+cell": {
          "cellMetadata": {
            "byteLimit": 2048000,
            "rowLimit": 10000
          },
          "inputWidgets": {},
          "nuid": "72f5f5cf-eae4-4f0d-9acb-3361511e498a",
          "showTitle": false,
          "title": ""
        },
        "id": "9_WWHNw8adtX",
        "outputId": "b0bf880c-c1ee-4a0a-8268-7525cac5f486",
        "colab": {
          "base_uri": "https://localhost:8080/"
        }
      },
      "outputs": [
        {
          "output_type": "display_data",
          "data": {
            "text/plain": [
              "<Figure size 640x480 with 1 Axes>"
            ],
            "image/png": "[encoded data removed]"
          },
          "metadata": {}
        }
      ],
      "source": [
        "plt.plot(t, ring.cells[0].soma_v)\n",
        "plt.show()"
      ]
    },
    {
      "cell_type": "code",
      "execution_count": 9,
      "metadata": {
        "application/vnd.databricks.v1+cell": {
          "cellMetadata": {
            "byteLimit": 2048000,
            "rowLimit": 10000
          },
          "inputWidgets": {},
          "nuid": "12099481-f34a-4c2e-821c-2c7740bf5845",
          "showTitle": false,
          "title": ""
        },
        "id": "yIDJmI5WadtX",
        "outputId": "05bc9acd-c7ea-4472-f29a-e37d42330eef",
        "colab": {
          "base_uri": "https://localhost:8080/",
          "height": 430
        }
      },
      "outputs": [
        {
          "output_type": "display_data",
          "data": {
            "text/plain": [
              "<Figure size 640x480 with 1 Axes>"
            ],
            "image/png": "[encoded data removed]"
          },
          "metadata": {}
        }
      ],
      "source": [
        "plt.figure()\n",
        "for i, cell in enumerate(ring.cells):\n",
        "    plt.vlines(list(cell.spike_times), i + 0.5, i + 1.5)\n",
        "plt.show()"
      ]
    },
    {
      "cell_type": "code",
      "execution_count": 10,
      "metadata": {
        "application/vnd.databricks.v1+cell": {
          "cellMetadata": {
            "byteLimit": 2048000,
            "rowLimit": 10000
          },
          "inputWidgets": {},
          "nuid": "43e8928f-ba88-4a5c-8ce0-23981f5ebb7e",
          "showTitle": false,
          "title": ""
        },
        "id": "FERs8cHEadtX",
        "outputId": "9e381813-b381-46d6-8747-f998393f189d",
        "colab": {
          "base_uri": "https://localhost:8080/",
          "height": 430
        }
      },
      "outputs": [
        {
          "output_type": "display_data",
          "data": {
            "text/plain": [
              "<Figure size 640x480 with 1 Axes>"
            ],
            "image/png": "[encoded data removed]"
          },
          "metadata": {}
        }
      ],
      "source": [
        "plt.figure()\n",
        "for syn_w, color in [(0.01, \"black\"), (0.005, \"red\")]:\n",
        "    ring = Ring(N=5, syn_w=syn_w)\n",
        "    h.finitialize(-65 * mV)\n",
        "    h.continuerun(100 * ms)\n",
        "    for i, cell in enumerate(ring.cells):\n",
        "        plt.vlines(list(cell.spike_times), i + 0.5, i + 1.5, color=color)\n",
        "\n",
        "plt.show()"
      ]
    }
  ],
  "metadata": {
    "application/vnd.databricks.v1+notebook": {
      "dashboards": [],
      "language": "python",
      "notebookMetadata": {
        "pythonIndentUnit": 4
      },
      "notebookName": "Ball and stick model",
      "widgets": {}
    },
    "language_info": {
      "name": "python"
    },
    "colab": {
      "provenance": []
    },
    "kernelspec": {
      "name": "python3",
      "display_name": "Python 3"
    }
  },
  "nbformat": 4,
  "nbformat_minor": 0
}